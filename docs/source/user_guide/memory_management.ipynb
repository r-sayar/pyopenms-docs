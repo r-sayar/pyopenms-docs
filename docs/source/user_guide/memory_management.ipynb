{
 "cells": [
  {
   "cell_type": "markdown",
   "metadata": {},
   "source": [
    "# Memory Management\n",
    "\n",
    "On order to save memory, we can avoid loading the whole file into memory\n",
    "and use the\n",
    "[OnDiscMSExperiment](https://pyopenms.readthedocs.io/en/latest/apidocs/_autosummary/pyopenms/pyopenms.OnDiscMSExperiment.html)\n",
    "for reading data."
   ],
   "id": "1cc6ae8e-3e7c-48b5-857e-4b415d939449"
  },
  {
   "cell_type": "code",
   "execution_count": null,
   "metadata": {
    "linenos": ""
   },
   "outputs": [],
   "source": [
    "import pyopenms as oms\n",
    "\n",
    "od_exp = oms.OnDiscMSExperiment()\n",
    "od_exp.openFile(\"test.mzML\")\n",
    "\n",
    "e = oms.MSExperiment()\n",
    "for k in range(od_exp.getNrSpectra()):\n",
    "    s = od_exp.getSpectrum(k)\n",
    "    if s.getNativeID().startswith(\"scan=\"):\n",
    "        e.addSpectrum(s)\n",
    "\n",
    "oms.MzMLFile().store(\"test_filtered.mzML\", e)"
   ],
   "id": "aaae41f2-2c6a-4b95-b505-794f7a26b1dc"
  },
  {
   "cell_type": "markdown",
   "metadata": {},
   "source": [
    "Note that using the approach the output data `e` is still completely in\n",
    "memory and may end up using a substantial amount of memory. We can avoid\n",
    "that by using"
   ],
   "id": "836645ca-93c0-4e67-9926-880e3d8098d4"
  },
  {
   "cell_type": "code",
   "execution_count": null,
   "metadata": {
    "linenos": ""
   },
   "outputs": [],
   "source": [
    "od_exp = oms.OnDiscMSExperiment()\n",
    "od_exp.openFile(\"test.mzML\")\n",
    "\n",
    "consumer = oms.PlainMSDataWritingConsumer(\"test_filtered.mzML\")\n",
    "\n",
    "e = oms.MSExperiment()\n",
    "for k in range(od_exp.getNrSpectra()):\n",
    "    s = od_exp.getSpectrum(k)\n",
    "    if s.getNativeID().startswith(\"scan=\"):\n",
    "        consumer.consumeSpectrum(s)\n",
    "\n",
    "del consumer"
   ],
   "id": "f90c780a-c107-4780-9295-da0229286691"
  },
  {
   "cell_type": "markdown",
   "metadata": {},
   "source": [
    "Make sure you do not forget `del consumer` since otherwise the final\n",
    "part of the\n",
    "[mzML](https://pyopenms.readthedocs.io/en/latest/user_guide/glossary.html#term-mzML)\n",
    "may not get written to disk (and the consumer is still waiting for new\n",
    "data)."
   ],
   "id": "1d3698fe-fd81-4b24-8b3b-d5197129a136"
  }
 ],
 "nbformat": 4,
 "nbformat_minor": 5,
 "metadata": {}
}
