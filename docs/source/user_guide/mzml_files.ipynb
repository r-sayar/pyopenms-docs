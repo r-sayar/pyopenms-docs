{
 "cells": [
  {
   "cell_type": "markdown",
   "metadata": {},
   "source": [
    "# [mzML](https://pyopenms.readthedocs.io/en/latest/user_guide/glossary.html#term-mzML) Files\n",
    "\n",
    "<div style=\"background-color: #BDE5F8; margin: 10px 0px; padding:12px;\"><p style=\"font-size: x-large\"><i class=\"far fa-sticky-note\"></i> <b>Note</b></p>\n",
    "\n",
    "This is an advanced section that dives deep into the\n",
    "[mzML](https://pyopenms.readthedocs.io/en/latest/user_guide/glossary.html#term-mzML)\n",
    "format and we will investigate the file format in greater detail. The\n",
    "intricacies of the\n",
    "[mzML](https://pyopenms.readthedocs.io/en/latest/user_guide/glossary.html#term-mzML)\n",
    "file format are all handled by pyOpenMS internally and this section is\n",
    "only intended for the interested reader\n",
    "\n",
    "</div>\n",
    "\n",
    "Specifically, we will look at\n",
    "[mzML](https://pyopenms.readthedocs.io/en/latest/user_guide/glossary.html#term-mzML)\n",
    "stores raw spectral data and how this data is encoded in the XML format.\n",
    "The\n",
    "[mzML](https://pyopenms.readthedocs.io/en/latest/user_guide/glossary.html#term-mzML)\n",
    "standard is developed by the HUPO-PSI committee and can be read on the\n",
    "[official mzML website](http://www.psidev.info/mzML). It describes how\n",
    "to store the meta data and the raw data for spectra and chromatograms.\n",
    "In short, the standard uses XML to encode all meta data and stores the\n",
    "raw data using [Base64 encoding](https://en.wikipedia.org/wiki/Base64).\n",
    "\n",
    "## Binary Encoding\n",
    "\n",
    "`To proceed <Binary encoding (mzML)>`, we will download an example file:"
   ],
   "id": "c25093aa-2ded-4447-be75-080c4652dc4e"
  },
  {
   "cell_type": "code",
   "execution_count": null,
   "metadata": {
    "linenos": ""
   },
   "outputs": [],
   "source": [
    "import pyopenms as oms\n",
    "from urllib.request import urlretrieve\n",
    "\n",
    "gh = \"https://raw.githubusercontent.com/OpenMS/pyopenms-docs/master\"\n",
    "urlretrieve(gh + \"/src/data/tiny.mzML\", \"test.mzML\")"
   ],
   "id": "c2d51a91-1aae-4dc8-b21f-393224f78e80"
  },
  {
   "cell_type": "markdown",
   "metadata": {},
   "source": [
    "Let's investigate the file `test.mzML` and look at line 197:"
   ],
   "id": "c1106ff9-8690-4a80-986c-9143c18ef506"
  },
  {
   "cell_type": "code",
   "execution_count": null,
   "metadata": {
    "linenos": ""
   },
   "outputs": [],
   "source": [
    "print(open(\"test.mzML\").readlines()[197].strip())"
   ],
   "id": "c5db2db9-6ff8-448b-9a54-20115ca7da32"
  },
  {
   "cell_type": "markdown",
   "metadata": {},
   "source": [
    "``` output\n",
    "<binary>AAAAAAAAAAAAAAAAAAAAQAAAAAAAABBAAAAAAAAAGEAAAAAAAAAgQAAAAAAAACRAAAAAAAAAKEAAAAAAAAAsQAAAAAAAADBAAAAAAAAAMkA=</binary>\n",
    "```\n",
    "\n",
    "We see that line 197 in the `test.mzML` file contains the `binary` XML\n",
    "tag that contains a long datastring that starts with `AAAAA` and ends\n",
    "with `AAMkA=`. This is the raw spectrum data encoded using\n",
    "[Base64](https://en.wikipedia.org/wiki/Base64). We can confirm this by\n",
    "looking at some more context (lines 193 to 199 of the file):"
   ],
   "id": "2a28db7b-429a-45ae-994c-d85d63fce40e"
  },
  {
   "cell_type": "code",
   "execution_count": null,
   "metadata": {
    "linenos": ""
   },
   "outputs": [],
   "source": [
    "print(\"\".join(open(\"test.mzML\").readlines()[193:199]))"
   ],
   "id": "84f057a5-5c58-4255-8aab-7c0f942d1544"
  },
  {
   "cell_type": "markdown",
   "metadata": {},
   "source": [
    "``` output\n",
    "<binaryDataArray encodedLength=\"108\" dataProcessingRef=\"CompassXtract_x0020_processing\">\n",
    "  <cvParam cvRef=\"MS\" accession=\"MS:1000523\" name=\"64-bit float\" value=\"\"/>\n",
    "  <cvParam cvRef=\"MS\" accession=\"MS:1000576\" name=\"no compression\" value=\"\"/>\n",
    "  <cvParam cvRef=\"MS\" accession=\"MS:1000514\" name=\"m/z array\" value=\"\" unitCvRef=\"MS\" unitAccession=\"MS:1000040\" unitName=\"m/z\"/>\n",
    "  <binary>AAAAAAAAAAAAAAAAAAAAQAAAAAAAABBAAAAAAAAAGEAAAAAAAAAgQAAAAAAAACRAAAAAAAAAKEAAAAAAAAAsQAAAAAAAADBAAAAAAAAAMkA=</binary>\n",
    "</binaryDataArray>\n",
    "```\n",
    "\n",
    "We can now see that the surrounding XML tags describe how to decode the\n",
    "data, namely we see that the data is describes the m/z array and is\n",
    "uncompressed 64 bit data. We can now open the file with pyOpenMS and\n",
    "print the corresponding array which is from the second spectrum in the\n",
    "file:"
   ],
   "id": "3ff25e7f-dd99-4026-bff7-c49cfb1fcaef"
  },
  {
   "cell_type": "code",
   "execution_count": null,
   "metadata": {
    "linenos": ""
   },
   "outputs": [],
   "source": [
    "exp = oms.MSExperiment()\n",
    "oms.MzMLFile().load(\"test.mzML\", exp)\n",
    "\n",
    "print(exp.getSpectrum(1).get_peaks()[0])"
   ],
   "id": "9688b8c9-9c6b-49c2-af69-165f0ac752d3"
  },
  {
   "cell_type": "markdown",
   "metadata": {},
   "source": [
    "``` output\n",
    "[ 0.  2.  4.  6.  8. 10. 12. 14. 16. 18.]\n",
    "```\n",
    "\n",
    "We now see that the data encoded describes 10 m/z data points that are\n",
    "equally spaced in intervals of two, starting from 0 m/z and ending at 18\n",
    "m/z (note: this is a synthetic dataset).\n",
    "\n",
    "## Base64 Encoding\n",
    "\n",
    "From the\n",
    "[mzML](https://pyopenms.readthedocs.io/en/latest/user_guide/glossary.html#term-mzML)\n",
    "standard, we know that the array is `base64 <Base64\n",
    "encoding>` encoded and we can now try to decode this data ourselves. We\n",
    "will first use pure Python functions :"
   ],
   "id": "3cea2e79-7cb8-47f6-8c0e-185d23b49589"
  },
  {
   "cell_type": "code",
   "execution_count": null,
   "metadata": {
    "linenos": ""
   },
   "outputs": [],
   "source": [
    "encoded_data = (\n",
    "    b\"AAAAAAAAAAAAAAAAAAAAQAAAAAAAABBAAAAAAAAAGEAAAAAAAAAgQ\"\n",
    "    + b\"AAAAAAAACRAAAAAAAAAKEAAAAAAAAAsQAAAAAAAADBAAAAAAAAAMkA=\"\n",
    ")\n",
    "\n",
    "import base64, struct\n",
    "\n",
    "raw_data = base64.decodebytes(encoded_data)\n",
    "out = struct.unpack(\"<%sd\" % (len(raw_data) // 8), raw_data)\n",
    "# struct.unpack('<%sf' % (len(raw_data) // 4), raw_data) # for 32 bit data\n",
    "print(out)"
   ],
   "id": "4f500e63-3a36-4bd2-8a2e-3ec0ef065a99"
  },
  {
   "cell_type": "markdown",
   "metadata": {},
   "source": [
    "``` output\n",
    "(0.0, 2.0, 4.0, 6.0, 8.0, 10.0, 12.0, 14.0, 16.0, 18.0)\n",
    "```\n",
    "\n",
    "The code above uses the `base64` package on line 5 to decode the encoded\n",
    "data to raw binary data. On line 6, we use the `struct` package to\n",
    "transform the raw binary data to 64-bit floating point values. Note that\n",
    "`<%sd` is used for 64 bit data and `<%sf` for 32 bit data.\n",
    "\n",
    "Alternatively, we could also use pyOpenMS to decode the same data:"
   ],
   "id": "fb6df288-8ddf-4d1e-a2b5-c2631d4ed9da"
  },
  {
   "cell_type": "code",
   "execution_count": null,
   "metadata": {
    "linenos": ""
   },
   "outputs": [],
   "source": [
    "encoded_data = (\n",
    "    b\"AAAAAAAAAAAAAAAAAAAAQAAAAAAAABBAAAAAAAAAGEAAAAAAAAAgQ\"\n",
    "    + b\"AAAAAAAACRAAAAAAAAAKEAAAAAAAAAsQAAAAAAAADBAAAAAAAAAMkA=\"\n",
    ")\n",
    "\n",
    "out = []\n",
    "oms.Base64().decode64(\n",
    "    encoded_data, oms.Base64.ByteOrder.BYTEORDER_LITTLEENDIAN, out, False\n",
    ")\n",
    "print(out)"
   ],
   "id": "7b313232-e314-444e-85a5-6641b353bec6"
  },
  {
   "cell_type": "markdown",
   "metadata": {},
   "source": [
    "``` output\n",
    "[0.0, 2.0, 4.0, 6.0, 8.0, 10.0, 12.0, 14.0, 16.0, 18.0]\n",
    "```\n",
    "\n",
    "This allows us thus to manually decode the data. We can use pyOpenMS to\n",
    "encode and decode 32 and 64 bit values:"
   ],
   "id": "cad9c803-7f1b-4dc1-b46d-ff615668d152"
  },
  {
   "cell_type": "code",
   "execution_count": null,
   "metadata": {
    "linenos": ""
   },
   "outputs": [],
   "source": [
    "encoded_data = (\n",
    "    b\"AAAAAAAAAAAAAAAAAAAAQAAAAAAAABBAAAAAAAAAGEAAAAAAAAAgQ\"\n",
    "    + b\"AAAAAAAACRAAAAAAAAAKEAAAAAAAAAsQAAAAAAAADBAAAAAAAAAMkA=\"\n",
    ")\n",
    "\n",
    "out = []\n",
    "oms.Base64().decode64(\n",
    "    encoded_data, oms.Base64.ByteOrder.BYTEORDER_LITTLEENDIAN, out, False\n",
    ")\n",
    "print(out)\n",
    "\n",
    "data = oms.String()\n",
    "oms.Base64().encode64(out, oms.Base64.ByteOrder.BYTEORDER_LITTLEENDIAN, data, False)\n",
    "print(data)\n",
    "\n",
    "oms.Base64().encode64(out, oms.Base64.ByteOrder.BYTEORDER_LITTLEENDIAN, data, True)\n",
    "print(data)\n",
    "\n",
    "data = oms.String()\n",
    "oms.Base64().encode32(out, oms.Base64.ByteOrder.BYTEORDER_LITTLEENDIAN, data, False)\n",
    "print(data)\n",
    "\n",
    "oms.Base64().encode32(out, oms.Base64.ByteOrder.BYTEORDER_LITTLEENDIAN, data, True)\n",
    "print(data)"
   ],
   "id": "101633ac-a0c7-4462-bc75-5468cd6bb9ab"
  },
  {
   "cell_type": "markdown",
   "metadata": {},
   "source": [
    "``` output\n",
    "[0.0, 2.0, 4.0, 6.0, 8.0, 10.0, 12.0, 14.0, 16.0, 18.0]\n",
    "b'AAAAAAAAAAAAAAAAAAAAQAAAAAAAABBAAAAAAAAAGEAAAAAAAAAgQAAAAAAAACRAAAAAAAAAKEAAAAAAAAAsQAAAAAAAADBAAAAAAAAAMkA='\n",
    "b'eJxjYEABDhBKAEpLQGkFKK0CpTWgtA6UNoDSRg4AZlQDYw=='\n",
    "b'AAAAAAAAAEAAAIBAAADAQAAAAEEAACBBAABAQQAAYEEAAIBBAACQQQ=='\n",
    "b'eJxjYAADBwaGBiA+AMQMjgwMCkDsAMQJQNwAxBMcAVbKBVc='\n",
    "```\n",
    "\n",
    "Note how encoding the data with 64 bit precision results in an output\n",
    "string of length $108$ characters that is about twice as long compared\n",
    "to encoding the data with 32 bit precision which is of length $56$\n",
    "characters. However, this difference disappears when zlib compression is\n",
    "used and the resulting string is shorter still.\n",
    "\n",
    "## Numpress Encoding\n",
    "\n",
    "We can do even better, using the `numpress <numpress>` compression. The\n",
    "numpress algorithm uses lossy compression, similar to jpeg compression,\n",
    "which is capable of compressing data even further but at the cost of not\n",
    "being able to recover the original input data exactly:"
   ],
   "id": "41601123-47f3-4225-a992-d0a16ed502ee"
  },
  {
   "cell_type": "code",
   "execution_count": null,
   "metadata": {
    "linenos": ""
   },
   "outputs": [],
   "source": [
    "data = [0.0, 2.0, 4.0, 6.0, 8.0, 10.0, 12.0, 14.0, 16.0, 18.0 + 1e-8]\n",
    "print(data)\n",
    "r = []\n",
    "\n",
    "c = oms.NumpressConfig()\n",
    "c.np_compression = oms.MSNumpressCoder.NumpressCompression.LINEAR\n",
    "res = oms.String()\n",
    "oms.MSNumpressCoder().encodeNP(data, res, False, c)\n",
    "print(res)\n",
    "\n",
    "oms.MSNumpressCoder().decodeNP(res, r, False, c)\n",
    "print(r)\n",
    "\n",
    "c.np_compression = oms.MSNumpressCoder.NumpressCompression.PIC\n",
    "oms.MSNumpressCoder().encodeNP(data, res, False, c)\n",
    "print(res)\n",
    "\n",
    "oms.MSNumpressCoder().decodeNP(res, r, False, c)\n",
    "print(r)"
   ],
   "id": "94698754-eadf-4cc9-9dd9-bd9d40e61c34"
  },
  {
   "cell_type": "markdown",
   "metadata": {},
   "source": [
    "``` output\n",
    "[0.0, 2.0, 4.0, 6.0, 8.0, 10.0, 12.0, 14.0, 16.0, 18.00000001]\n",
    "b'Qc////+AAAAAAAAA/v//f4iIiIew'\n",
    "[0.0, 2.0, 4.0, 6.0, 8.0, 10.0, 12.0, 14.0, 16.0, 18.00000001024455]\n",
    "b'hydHZ4enx+YBYhA='\n",
    "[0.0, 2.0, 4.0, 6.0, 8.0, 10.0, 12.0, 14.0, 16.0, 18.0]\n",
    "```\n",
    "\n",
    "Note how the lossy numpress compression leads to even shorter data, with\n",
    "16 characters for PIC compression and 28 characters for linear\n",
    "compression. This makes the encoding much more efficient than lossless\n",
    "encoding that we have discussed above, however this is at the price of\n",
    "accuracy.\n",
    "\n",
    "Different numpress compression schemes result in different accuracy, the\n",
    "LINEAR compression scheme introduced an inaccuracy of 10e-10 while the\n",
    "PIC (positive integer compression) can only store positive integers and\n",
    "results in greater loss of accuracy."
   ],
   "id": "80778af8-0c05-468a-964a-b25e375261ba"
  }
 ],
 "nbformat": 4,
 "nbformat_minor": 5,
 "metadata": {}
}
