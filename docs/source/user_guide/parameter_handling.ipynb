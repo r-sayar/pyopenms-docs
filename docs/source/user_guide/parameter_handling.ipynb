{
 "cells": [
  {
   "cell_type": "markdown",
   "metadata": {},
   "source": [
    "# Parameter Handling\n",
    "\n",
    "Parameter handling in OpenMS and pyOpenMS is usually implemented through\n",
    "inheritance from\n",
    "[DefaultParamHandler](https://pyopenms.readthedocs.io/en/latest/apidocs/_autosummary/pyopenms/pyopenms.DefaultParamHandler.html)\n",
    "and allow access to parameters through the\n",
    "[Param](https://pyopenms.readthedocs.io/en/latest/apidocs/_autosummary/pyopenms/pyopenms.Param.html)\n",
    "object. This means, the classes implement the methods `getDefaults`,\n",
    "`getParameters`, `setParameters` which allows access to the default\n",
    "parameters, the current parameters and allows to set the parameters.\n",
    "\n",
    "The\n",
    "[Param](https://pyopenms.readthedocs.io/en/latest/apidocs/_autosummary/pyopenms/pyopenms.Param.html)\n",
    "object that is returned can be manipulated through the\n",
    "[Param.setValue](https://pyopenms.readthedocs.io/en/latest/apidocs/_autosummary/pyopenms/pyopenms.Param.setValue.html)\n",
    "and\n",
    "[Param.getValue](https://pyopenms.readthedocs.io/en/latest/apidocs/_autosummary/pyopenms/pyopenms.Param.getValue.html)\n",
    "methods (the `exists` method can be used to check for existence of a\n",
    "key). Using the\n",
    "[Param.getDescription](https://pyopenms.readthedocs.io/en/latest/apidocs/_autosummary/pyopenms/pyopenms.Param.getDescription.html)\n",
    "method, it is possible to get a help-text for each parameter value in an\n",
    "interactive session without consulting the documentation."
   ],
   "id": "9d73104c-8f5e-4d67-8d15-a6e5ef2f9fa2"
  },
  {
   "cell_type": "code",
   "execution_count": null,
   "metadata": {
    "linenos": ""
   },
   "outputs": [],
   "source": [
    "import pyopenms as oms\n",
    "\n",
    "p = oms.Param()\n",
    "p.setValue(\"param1\", 4.0, \"This is value 1\")\n",
    "p.setValue(\"param2\", 5.0, \"This is value 2\")\n",
    "p.setValue(\n",
    "    \"param3\",\n",
    "    [b\"H:+:0.6\", b\"Na:+:0.2\", b\"K:+:0.2\"],\n",
    "    \"This is value 3 (StringList)\",\n",
    ")\n",
    "print(p[b\"param1\"])\n",
    "p[b\"param1\"] += 3  # add three to the parameter value\n",
    "print(p[b\"param1\"])\n",
    "print(p[b\"param3\"])"
   ],
   "id": "b769a479-146e-4108-a052-54b81c852224"
  },
  {
   "cell_type": "markdown",
   "metadata": {},
   "source": [
    "The parameters can then be accessed as\n",
    "\n",
    "``` pycon\n",
    ">>> p.asDict()\n",
    "{'param2': 4.0, 'param1': 7.0}\n",
    ">>> p.values()\n",
    "[4.0, 7.0]\n",
    ">>> p.keys()\n",
    "['param1', 'param2']\n",
    ">>> p.items()\n",
    "[('param1', 7.0), ('param2', 4.0)]\n",
    ">>> p.exists(\"param1\")\n",
    "True\n",
    "```\n",
    "\n",
    "The param object can be copy and merge in to other param object as"
   ],
   "id": "5748662a-563e-4a75-9695-6d3e5c636bd4"
  },
  {
   "cell_type": "code",
   "execution_count": null,
   "metadata": {
    "linenos": ""
   },
   "outputs": [],
   "source": [
    "# print the key and value pairs stored in a Param object\n",
    "def printParamKeyAndValues(p):\n",
    "    if p.size():\n",
    "        for i in p.keys():\n",
    "            print(\"Key:\", i, \"Value:\", p[i])\n",
    "    else:\n",
    "        print(\"no data available\")\n",
    "\n",
    "\n",
    "new_p = oms.Param()\n",
    "if p.empty() == False:  # check p is not empty\n",
    "    new_p = p  # new deep copy of p generate with name \"new_p\"\n",
    "\n",
    "# we will add 4 more keys to the new_p\n",
    "new_p.setValue(\"param2\", 9.0, \"This is value 9\")\n",
    "new_p.setValue(\"example1\", 6.0, \"This is value 6\")\n",
    "new_p.setValue(\"example2\", 8.0, \"This is value 8\")\n",
    "new_p.setValue(\"example3\", 10.0, \"This is value 10\")\n",
    "\n",
    "# names \"example1\", \"example2\" , \"example3\" keys will added to p, but \"param2\" will update the value\n",
    "p.merge(new_p)\n",
    "print(\" print the key  and values pairs stored in a Param object p \")\n",
    "printParamKeyAndValues(p)"
   ],
   "id": "c4b9c9f7-4b23-4fb2-a530-9f6035daa2e8"
  },
  {
   "cell_type": "markdown",
   "metadata": {},
   "source": [
    "In param object the keys values can be remove by key_name or prefix as"
   ],
   "id": "570632d0-5eb9-47ff-9bdf-023a35ed3004"
  },
  {
   "cell_type": "code",
   "execution_count": null,
   "metadata": {
    "linenos": ""
   },
   "outputs": [],
   "source": [
    "# We now call the remove method with key of the entry we want to delete (\"example3\")\n",
    "new_p.remove(\"example3\")\n",
    "print(\"Key and values pairs after removing the entry with key: example3\")\n",
    "printParamKeyAndValues(new_p)\n",
    "\n",
    "# We now want to delete all keys with prefix \"exam\"\n",
    "new_p.removeAll(\"exam\")\n",
    "print(\n",
    "    \"Key and value pairs after removing all entries with keys starting with: exam\"\n",
    ")\n",
    "printParamKeyAndValues(new_p)\n",
    "\n",
    "# we can compare Param objects for identical content\n",
    "if p == new_p:  # check p is equal to new_p\n",
    "    new_p.clear()  # Example: delete all keys from new_p\n",
    "\n",
    "print(\"Keys and values after deleting all entries.\")\n",
    "printParamKeyAndValues(new_p)  # All keys of new_p deleted"
   ],
   "id": "d2a224d4-10a9-472b-932e-93559aeed750"
  },
  {
   "cell_type": "markdown",
   "metadata": {},
   "source": [
    "For the algorithms that inherit\n",
    "[DefaultParamHandler](https://pyopenms.readthedocs.io/en/latest/apidocs/_autosummary/pyopenms/pyopenms.DefaultParamHandler.html),\n",
    "the users can list all parameters along with their descriptions by\n",
    "using, for instance, the following simple function."
   ],
   "id": "2aa77155-9529-4f84-b4f2-33476aaee300"
  },
  {
   "cell_type": "code",
   "execution_count": null,
   "metadata": {
    "linenos": ""
   },
   "outputs": [],
   "source": [
    "# print all parameters\n",
    "def printParams(p):\n",
    "    if p.size():\n",
    "        for i in p.keys():\n",
    "            print(\n",
    "                \"Param:\", i, \"Value:\", p[i], \"Description:\", p.getDescription(i)\n",
    "            )\n",
    "    else:\n",
    "        print(\"no data available\")\n",
    "\n",
    "# print all parameters in GaussFilter class\n",
    "gf = oms.GaussFilter()\n",
    "printParams(gf.getParameters())"
   ],
   "id": "c29443ec-0dc5-4faa-b4a8-ec909d83daa4"
  },
  {
   "cell_type": "markdown",
   "metadata": {},
   "source": [
    "``` output\n",
    "Param: b'gaussian_width' Value: 0.2 Description: Use a gaussian filter width which has approximately the same width as your mass peaks (FWHM in m/z).\n",
    "Param: b'ppm_tolerance' Value: 10.0 Description: Gaussian width, depending on the m/z position.\n",
    "The higher the value, the wider the peak and therefore the wider the gaussian.\n",
    "Param: b'use_ppm_tolerance' Value: false Description: If true, instead of the gaussian_width value, the ppm_tolerance is used. The gaussian is calculated in each step anew, so this is much slower.\n",
    "Param: b'write_log_messages' Value: false Description: true: Warn if no signal was found by the Gauss filter algorithm.\n",
    "```"
   ],
   "id": "51938447-daf5-47c6-95bc-788e8090c5ea"
  }
 ],
 "nbformat": 4,
 "nbformat_minor": 5,
 "metadata": {}
}
