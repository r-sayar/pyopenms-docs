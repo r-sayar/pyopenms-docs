{
 "cells": [
  {
   "cell_type": "markdown",
   "metadata": {},
   "source": [
    "# Identification by Accurate Mass\n",
    "\n",
    "Example workflow for the processing of a set of\n",
    "[mzML](https://pyopenms.readthedocs.io/en/latest/user_guide/glossary.html#term-mzML)\n",
    "files (defined in the `files` variable) including centroiding, features\n",
    "detection, :term:feature: linking and accurate mass search. The\n",
    "resulting data gets processed in a pandas data frame with features\n",
    "filtering (missing values, quality) and imputation of remaining missing\n",
    "values. Compounds detected during accurate mass search will be annotated\n",
    "in the resulting dataframe.\n",
    "\n",
    "## Imports and [mzML](https://pyopenms.readthedocs.io/en/latest/user_guide/glossary.html#term-mzML) file path"
   ],
   "id": "85f9b617-796d-4427-a6b3-ec779b7135ac"
  },
  {
   "cell_type": "code",
   "execution_count": null,
   "metadata": {
    "linenos": ""
   },
   "outputs": [],
   "source": [
    "import os\n",
    "import shutil\n",
    "import requests\n",
    "import pandas as pd\n",
    "import pyopenms as oms\n",
    "import numpy as np\n",
    "from sklearn.impute import KNNImputer\n",
    "from sklearn.preprocessing import FunctionTransformer\n",
    "from sklearn.pipeline import Pipeline\n",
    "import plotly.graph_objects as go\n",
    "import plotly.express as px\n",
    "import matplotlib.pyplot as plt\n",
    "\n",
    "# set path to your mzML files, or leave like this to use the example data\n",
    "files = os.path.join(os.getcwd(), \"IdByMz_Example\")"
   ],
   "id": "809cc8c1-36ee-4098-8154-b4bc6297cffa"
  },
  {
   "cell_type": "markdown",
   "metadata": {},
   "source": [
    "## Download Example Data\n",
    "\n",
    "Execute this cell only for the example workflow."
   ],
   "id": "48a024db-dc8b-43cd-9bbb-4830b6f404d8"
  },
  {
   "cell_type": "code",
   "execution_count": null,
   "metadata": {
    "linenos": ""
   },
   "outputs": [],
   "source": [
    "if not os.path.isdir(os.path.join(os.getcwd(), \"IdByMz_Example\")):\n",
    "    os.mkdir(os.path.join(os.getcwd(), \"IdByMz_Example\"))\n",
    "\n",
    "base = \"https://abibuilder.cs.uni-tuebingen.de/archive/openms/Tutorials/Example_Data/Metabolomics/\"\n",
    "urls = [\n",
    "    \"datasets/2012_02_03_PStd_050_1.mzML\",\n",
    "    \"datasets/2012_02_03_PStd_050_2.mzML\",\n",
    "    \"datasets/2012_02_03_PStd_050_3.mzML\",\n",
    "    \"databases/PositiveAdducts.tsv\",\n",
    "    \"databases/NegativeAdducts.tsv\",\n",
    "    \"databases/HMDBMappingFile.tsv\",\n",
    "    \"databases/HMDB2StructMapping.tsv\",\n",
    "]\n",
    "\n",
    "for url in urls:\n",
    "    request = requests.get(base + url, allow_redirects=True)\n",
    "    open(os.path.join(files, os.path.basename(url)), \"wb\").write(\n",
    "        request.content\n",
    "    )"
   ],
   "id": "60e730ab-d027-472b-b6ea-803241422e36"
  },
  {
   "cell_type": "markdown",
   "metadata": {},
   "source": [
    "## Centroiding\n",
    "\n",
    "If files are already centroided this step can bet omitted.\n",
    "\n",
    "`in`: path to MS data (files)\n",
    "\n",
    "`out`: path to centroided\n",
    "[mzML](https://pyopenms.readthedocs.io/en/latest/user_guide/glossary.html#term-mzML)\n",
    "files in a subfolder 'centroid' (files)"
   ],
   "id": "f3bb67c7-f204-4829-826d-0d97777b3c74"
  },
  {
   "cell_type": "code",
   "execution_count": null,
   "metadata": {
    "linenos": ""
   },
   "outputs": [],
   "source": [
    "if os.path.exists(os.path.join(files, \"centroid\")):\n",
    "    shutil.rmtree(os.path.join(files, \"centroid\"))\n",
    "os.mkdir(os.path.join(files, \"centroid\"))\n",
    "\n",
    "for file in os.listdir(files):\n",
    "    if file.endswith(\".mzML\"):\n",
    "        exp_raw = oms.MSExperiment()\n",
    "        oms.MzMLFile().load(os.path.join(files, file), exp_raw)\n",
    "        exp_centroid = oms.MSExperiment()\n",
    "\n",
    "        oms.PeakPickerHiRes().pickExperiment(exp_raw, exp_centroid, True)\n",
    "\n",
    "        oms.MzMLFile().store(os.path.join(files, \"centroid\", file), exp_centroid)\n",
    "        del exp_raw\n",
    "\n",
    "files = os.path.join(files, \"centroid\")"
   ],
   "id": "732b18e9-beba-4e8a-a779-fd72c6e191e3"
  },
  {
   "cell_type": "markdown",
   "metadata": {},
   "source": [
    "## Feature Detection\n",
    "\n",
    "`in`: path to centroid\n",
    "[mzML](https://pyopenms.readthedocs.io/en/latest/user_guide/glossary.html#term-mzML)\n",
    "files (files)\n",
    "\n",
    "`out`: list of\n",
    "[FeatureMap](https://pyopenms.readthedocs.io/en/latest/apidocs/_autosummary/pyopenms/pyopenms.FeatureMap.html)\n",
    "(feature_maps)"
   ],
   "id": "9b46dc18-50c1-4613-8b9c-9696dcbc7037"
  },
  {
   "cell_type": "code",
   "execution_count": null,
   "metadata": {
    "linenos": ""
   },
   "outputs": [],
   "source": [
    "feature_maps = []\n",
    "\n",
    "for file in os.listdir(files):\n",
    "    if file.endswith(\".mzML\"):\n",
    "        exp = oms.MSExperiment()\n",
    "        oms.MzMLFile().load(os.path.join(files, file), exp)\n",
    "\n",
    "        exp.sortSpectra(True)\n",
    "\n",
    "        mass_traces = []\n",
    "        mtd = oms.MassTraceDetection()\n",
    "        mtd_params = mtd.getDefaults()\n",
    "        mtd_params.setValue(\n",
    "            \"mass_error_ppm\", 5.0\n",
    "        )  # set according to your instrument mass error\n",
    "        mtd_params.setValue(\n",
    "            \"noise_threshold_int\", 1000.0\n",
    "        )  # adjust to noise level in your data\n",
    "        mtd.setParameters(mtd_params)\n",
    "        mtd.run(exp, mass_traces, 0)\n",
    "\n",
    "        mass_traces_split = []\n",
    "        mass_traces_final = []\n",
    "        epd = oms.ElutionPeakDetection()\n",
    "        epd_params = epd.getDefaults()\n",
    "        epd_params.setValue(\"width_filtering\", \"fixed\")\n",
    "        epd.setParameters(epd_params)\n",
    "        epd.detectPeaks(mass_traces, mass_traces_split)\n",
    "\n",
    "        if epd.getParameters().getValue(\"width_filtering\") == \"auto\":\n",
    "            epd.filterByPeakWidth(mass_traces_split, mass_traces_final)\n",
    "        else:\n",
    "            mass_traces_final = mass_traces_split\n",
    "\n",
    "        feature_map = oms.FeatureMap()\n",
    "        feat_chrom = []\n",
    "        ffm = oms.FeatureFindingMetabo()\n",
    "        ffm_params = ffm.getDefaults()\n",
    "        ffm_params.setValue(\"isotope_filtering_model\", \"none\")\n",
    "        ffm_params.setValue(\n",
    "            \"remove_single_traces\", \"true\"\n",
    "        )  # set false to keep features with only one mass trace\n",
    "        ffm_params.setValue(\"mz_scoring_by_elements\", \"false\")\n",
    "        ffm_params.setValue(\"report_convex_hulls\", \"true\")\n",
    "        ffm.setParameters(ffm_params)\n",
    "        ffm.run(mass_traces_final, feature_map, feat_chrom)\n",
    "\n",
    "        feature_map.setUniqueIds()\n",
    "        feature_map.setPrimaryMSRunPath([file[:-5].encode()])\n",
    "\n",
    "        feature_maps.append(feature_map)"
   ],
   "id": "e3518977-59c7-4e1f-86e0-4d37c78aa91d"
  },
  {
   "cell_type": "markdown",
   "metadata": {},
   "source": [
    "## Feature Map Retention Time Alignment\n",
    "\n",
    "`in`: unaligned list of\n",
    "[FeatureMap](https://pyopenms.readthedocs.io/en/latest/apidocs/_autosummary/pyopenms/pyopenms.FeatureMap.html)\n",
    "(feature_maps)\n",
    "\n",
    "`out`: list of\n",
    "[FeatureMap](https://pyopenms.readthedocs.io/en/latest/apidocs/_autosummary/pyopenms/pyopenms.FeatureMap.html)\n",
    "aligned to the first\n",
    "[feature map](https://pyopenms.readthedocs.io/en/latest/user_guide/glossary.html#term-feature-map)\n",
    "in the list (feature_maps)"
   ],
   "id": "4ad34c56-6142-4fa1-a751-ac9d2ee97748"
  },
  {
   "cell_type": "code",
   "execution_count": null,
   "metadata": {
    "linenos": ""
   },
   "outputs": [],
   "source": [
    "# get in index of feature map with highest number of features in feature map list\n",
    "ref_index = [\n",
    "    i[0]\n",
    "    for i in sorted(\n",
    "        enumerate([fm.size() for fm in feature_maps]), key=lambda x: x[1]\n",
    "    )\n",
    "][-1]\n",
    "\n",
    "aligner = oms.MapAlignmentAlgorithmPoseClustering()\n",
    "\n",
    "aligner.setReference(feature_maps[ref_index])\n",
    "\n",
    "for feature_map in feature_maps[:ref_index] + feature_maps[ref_index + 1 :]:\n",
    "    trafo = oms.TransformationDescription()\n",
    "    aligner.align(feature_map, trafo)\n",
    "    transformer = oms.MapAlignmentTransformer()\n",
    "    transformer.transformRetentionTimes(\n",
    "        feature_map, trafo, True\n",
    "    )  # store original RT as meta value"
   ],
   "id": "70ca2a1d-646e-4658-850e-97762ee73aad"
  },
  {
   "cell_type": "markdown",
   "metadata": {},
   "source": [
    "## Visualization of RTs before and after Alignment"
   ],
   "id": "18714805-feaa-4eca-aacc-1493d61b9b18"
  },
  {
   "cell_type": "code",
   "execution_count": null,
   "metadata": {
    "linenos": ""
   },
   "outputs": [],
   "source": [
    "fmaps = (\n",
    "    [feature_maps[ref_index]]\n",
    "    + feature_maps[:ref_index]\n",
    "    + feature_maps[ref_index + 1 :]\n",
    ")\n",
    "\n",
    "fig = plt.figure(figsize=(10, 5))\n",
    "\n",
    "ax = fig.add_subplot(1, 2, 1)\n",
    "ax.set_title(\"consensus map before alignment\")\n",
    "ax.set_ylabel(\"m/z\")\n",
    "ax.set_xlabel(\"RT\")\n",
    "\n",
    "# use alpha value to display feature intensity\n",
    "ax.scatter(\n",
    "    [f.getRT() for f in fmaps[0]],\n",
    "    [f.getMZ() for f in fmaps[0]],\n",
    "    alpha=np.asarray([f.getIntensity() for f in fmaps[0]])\n",
    "    / max([f.getIntensity() for f in fmaps[0]]),\n",
    ")\n",
    "\n",
    "for fm in fmaps[1:]:\n",
    "    ax.scatter(\n",
    "        [f.getMetaValue(\"original_RT\") for f in fm],\n",
    "        [f.getMZ() for f in fm],\n",
    "        alpha=np.asarray([f.getIntensity() for f in fm])\n",
    "        / max([f.getIntensity() for f in fm]),\n",
    "    )\n",
    "\n",
    "ax = fig.add_subplot(1, 2, 2)\n",
    "ax.set_title(\"consensus map after alignment\")\n",
    "ax.set_xlabel(\"RT\")\n",
    "\n",
    "for fm in fmaps:\n",
    "    ax.scatter(\n",
    "        [f.getRT() for f in fm],\n",
    "        [f.getMZ() for f in fm],\n",
    "        alpha=np.asarray([f.getIntensity() for f in fm])\n",
    "        / max([f.getIntensity() for f in fm]),\n",
    "    )\n",
    "\n",
    "fig.tight_layout()\n",
    "fig.legend(\n",
    "    [fmap.getMetaValue(\"spectra_data\")[0].decode() for fmap in fmaps],\n",
    "    loc=\"lower center\",\n",
    ")\n",
    "# in some cases get file name elsewhere, e.g. fmap.getDataProcessing()[0].getMetaValue('parameter: out')\n",
    "fig.show()"
   ],
   "id": "129c3367-99bc-4bea-a0e2-4660186e070b"
  },
  {
   "cell_type": "markdown",
   "metadata": {},
   "source": [
    "## Feature Linking\n",
    "\n",
    "`in`: list\n",
    "of[FeatureMap](https://pyopenms.readthedocs.io/en/latest/apidocs/_autosummary/pyopenms/pyopenms.FeatureMap.html)\n",
    "(feature_maps)\n",
    "\n",
    "`out`:\n",
    "[ConsensusMap](https://pyopenms.readthedocs.io/en/latest/apidocs/_autosummary/pyopenms/pyopenms.ConsensusMap.html)\n",
    "(consensus_map)"
   ],
   "id": "4cc4fc01-a371-4b60-a330-a683dd8a3af4"
  },
  {
   "cell_type": "code",
   "execution_count": null,
   "metadata": {
    "linenos": ""
   },
   "outputs": [],
   "source": [
    "feature_grouper = oms.FeatureGroupingAlgorithmQT()\n",
    "\n",
    "consensus_map = oms.ConsensusMap()\n",
    "file_descriptions = consensus_map.getColumnHeaders()\n",
    "\n",
    "for i, feature_map in enumerate(feature_maps):\n",
    "    file_description = file_descriptions.get(i, oms.ColumnHeader())\n",
    "    file_description.filename = feature_map.getMetaValue(\"spectra_data\")[\n",
    "        0\n",
    "    ].decode()\n",
    "    file_description.size = feature_map.size()\n",
    "    file_description.unique_id = feature_map.getUniqueId()\n",
    "    file_descriptions[i] = file_description\n",
    "\n",
    "consensus_map.setColumnHeaders(file_descriptions)\n",
    "feature_grouper.group(feature_maps, consensus_map)"
   ],
   "id": "1711656e-dab1-42be-a4c2-2d0abacdf9a4"
  },
  {
   "cell_type": "markdown",
   "metadata": {},
   "source": [
    "## ConsensusMap to Pandas DataFrame\n",
    "\n",
    "`in`:\n",
    "[ConsensusMap](https://pyopenms.readthedocs.io/en/latest/apidocs/_autosummary/pyopenms/pyopenms.ConsensusMap.html)\n",
    "(consensus_map)\n",
    "\n",
    "`out`: DataFrame with RT, mz and quality from\n",
    "[ConsensusMap](https://pyopenms.readthedocs.io/en/latest/apidocs/_autosummary/pyopenms/pyopenms.ConsensusMap.html)\n",
    "(cm_df)"
   ],
   "id": "88d489e6-0a84-4d62-a4c9-f9344eab84bb"
  },
  {
   "cell_type": "code",
   "execution_count": null,
   "metadata": {
    "linenos": ""
   },
   "outputs": [],
   "source": [
    "intensities = consensus_map.get_intensity_df()\n",
    "\n",
    "meta_data = consensus_map.get_metadata_df()[[\"RT\", \"mz\", \"quality\"]]\n",
    "\n",
    "cm_df = pd.concat([meta_data, intensities], axis=1)\n",
    "cm_df.reset_index(drop=True, inplace=True)\n",
    "cm_df"
   ],
   "id": "697b7c2f-bd2a-473a-97ab-0cc548c5db91"
  },
  {
   "cell_type": "markdown",
   "metadata": {},
   "source": [
    "## Accurate Mass Search\n",
    "\n",
    "`in`:\n",
    "[ConsensusMap](https://pyopenms.readthedocs.io/en/latest/apidocs/_autosummary/pyopenms/pyopenms.ConsensusMap.html)\n",
    "(consensus_map)\n",
    "\n",
    "`out`: DataFrame with\n",
    "[AccurateMassSearchEngine](https://pyopenms.readthedocs.io/en/latest/apidocs/_autosummary/pyopenms/pyopenms.AccurateMassSearchEngine.html)\n",
    "results (ams_df)"
   ],
   "id": "e707bb4f-ad76-450e-9d63-bdd178d04d1d"
  },
  {
   "cell_type": "code",
   "execution_count": null,
   "metadata": {
    "linenos": ""
   },
   "outputs": [],
   "source": [
    "if files.endswith(\"centroid\"):\n",
    "    files = os.path.join(files, \"..\")\n",
    "\n",
    "ams = oms.AccurateMassSearchEngine()\n",
    "\n",
    "ams_params = ams.getParameters()\n",
    "ams_params.setValue(\"ionization_mode\", \"negative\")\n",
    "ams_params.setValue(\n",
    "    \"positive_adducts\", os.path.join(files, \"PositiveAdducts.tsv\")\n",
    ")\n",
    "ams_params.setValue(\n",
    "    \"negative_adducts\", os.path.join(files, \"NegativeAdducts.tsv\")\n",
    ")\n",
    "ams_params.setValue(\"db:mapping\", [os.path.join(files, \"HMDBMappingFile.tsv\")])\n",
    "ams_params.setValue(\n",
    "    \"db:struct\", [os.path.join(files, \"HMDB2StructMapping.tsv\")]\n",
    ")\n",
    "ams.setParameters(ams_params)\n",
    "\n",
    "mztab = oms.MzTab()\n",
    "\n",
    "ams.init()\n",
    "\n",
    "ams.run(consensus_map, mztab)\n",
    "\n",
    "oms.MzTabFile().store(os.path.join(files, \"ids.tsv\"), mztab)\n",
    "\n",
    "with open(os.path.join(files, \"ids_smsection.tsv\"), \"w\") as output, open(\n",
    "    os.path.join(files, \"ids.tsv\"), \"r\"\n",
    ") as input:\n",
    "    for line in input:\n",
    "        if line.lstrip().startswith(\"SM\"):\n",
    "            output.write(line[4:])\n",
    "\n",
    "ams_df = pd.read_csv(os.path.join(files, \"ids_smsection.tsv\"), sep=\"\\t\")\n",
    "\n",
    "os.remove(os.path.join(files, \"ids.tsv\"))\n",
    "os.remove(os.path.join(files, \"ids_smsection.tsv\"))\n",
    "\n",
    "ams_df"
   ],
   "id": "86784870-34bc-47e2-94cf-8b0a720e9b3c"
  },
  {
   "cell_type": "markdown",
   "metadata": {},
   "source": [
    "## Data Filtering and Imputation\n",
    "\n",
    "`in`: unfiltered\n",
    "[ConsensusMap](https://pyopenms.readthedocs.io/en/latest/apidocs/_autosummary/pyopenms/pyopenms.ConsensusMap.html)\n",
    "DataFrame (cm_df)\n",
    "\n",
    "`out`: features below minimum quality and with too many missing values\n",
    "removed, remaining missing values imputed with KNN algorithm (cm_df)"
   ],
   "id": "27c14432-bf84-47a8-9ee0-5186cca9ad69"
  },
  {
   "cell_type": "code",
   "execution_count": null,
   "metadata": {
    "linenos": ""
   },
   "outputs": [],
   "source": [
    "allowed_missing_values = 1\n",
    "min_feature_quality = 0.8\n",
    "n_nearest_neighbours = 2\n",
    "\n",
    "# drop features that have more then the allowed number of missing values or are below minimum feature quality\n",
    "to_drop = []\n",
    "\n",
    "for i, row in cm_df.iterrows():\n",
    "    if (\n",
    "        row.isna().sum() > allowed_missing_values\n",
    "        or row[\"quality\"] < min_feature_quality\n",
    "    ):\n",
    "        to_drop.append(i)\n",
    "\n",
    "cm_df.drop(index=cm_df.index[to_drop], inplace=True)\n",
    "\n",
    "# Data imputation with KNN\n",
    "imputer = Pipeline(\n",
    "    [\n",
    "        (\"imputer\", KNNImputer(n_neighbors=2)),\n",
    "        (\n",
    "            \"pandarizer\",\n",
    "            FunctionTransformer(\n",
    "                lambda x: pd.DataFrame(x, columns=cm_df.columns)\n",
    "            ),\n",
    "        ),\n",
    "    ]\n",
    ")\n",
    "\n",
    "cm_df = imputer.fit_transform(cm_df)\n",
    "cm_df"
   ],
   "id": "4dd4666c-983a-492f-9769-517ba1e5d810"
  },
  {
   "cell_type": "markdown",
   "metadata": {},
   "source": [
    "Annotate :term:Features\\<features\\><span class=\"title-ref\"> with\n",
    "Identified Compounds\n",
    "\\*\\*\\*\\*\\*\\*\\*\\*\\*\\*\\*\\*\\*\\*\\*\\*\\*\\*\\*\\*\\*\\*\\*\\*\\*\\*\\*\\*\\*\\*\\*\\*\\*\\*\\*\\*\\*\\*\\*\\*\\*\\*\\*\\*\\*\\*\\*\\*\\*\\*\\*\\*\\*\\*\\*\\*\\*\\*\\*\\*\n",
    "</span><span class=\"title-ref\">in</span><span class=\"title-ref\">:\n",
    ":py:class:</span>~.ConsensusMap\\` DataFrame without identifications\n",
    "(cm_df) and\n",
    "[AccurateMassSearch](https://pyopenms.readthedocs.io/en/latest/apidocs/_autosummary/pyopenms/pyopenms.AccurateMassSearch.html)\n",
    "DataFrame (ams_df)\n",
    "\n",
    "`out`:\n",
    "[ConsensusMap](https://pyopenms.readthedocs.io/en/latest/apidocs/_autosummary/pyopenms/pyopenms.ConsensusMap.html)\n",
    "DataFrame with new identifications column (id_df)"
   ],
   "id": "a2d49e8d-f766-4385-a5dd-222ba64f983c"
  },
  {
   "cell_type": "code",
   "execution_count": null,
   "metadata": {
    "linenos": ""
   },
   "outputs": [],
   "source": [
    "id_df = cm_df\n",
    "\n",
    "id_df[\"identifications\"] = pd.Series([\"\" for x in range(len(id_df.index))])\n",
    "\n",
    "for rt, mz, description in zip(\n",
    "    ams_df[\"retention_time\"],\n",
    "    ams_df[\"exp_mass_to_charge\"],\n",
    "    ams_df[\"description\"],\n",
    "):\n",
    "    indices = id_df.index[\n",
    "        np.isclose(id_df[\"mz\"], float(mz), atol=1e-05)\n",
    "        & np.isclose(id_df[\"RT\"], float(rt), atol=1e-05)\n",
    "    ].tolist()\n",
    "    for index in indices:\n",
    "        if description != \"null\":\n",
    "            id_df.loc[index, \"identifications\"] += str(description) + \";\"\n",
    "id_df[\"identifications\"] = [\n",
    "    item[:-1] if \";\" in item else \"\" for item in id_df[\"identifications\"]\n",
    "]\n",
    "id_df.to_csv(os.path.join(files, \"result.tsv\"), sep=\"\\t\", index=False)\n",
    "id_df"
   ],
   "id": "9765149e-706b-48ff-b631-1c3530f937c6"
  },
  {
   "cell_type": "markdown",
   "metadata": {},
   "source": [
    "## Visualize [Consensus Features](https://pyopenms.readthedocs.io/en/latest/user_guide/glossary.html#term-consensus-features) with Identifications"
   ],
   "id": "0b99a41d-2f85-4128-bc88-93c6ff8adde8"
  },
  {
   "cell_type": "code",
   "execution_count": null,
   "metadata": {
    "linenos": ""
   },
   "outputs": [],
   "source": [
    "fig = px.scatter(id_df, x=\"RT\", y=\"mz\", hover_name=\"identifications\")\n",
    "fig.update_layout(title=\"Consensus features with identifications (hover)\")\n",
    "fig.show()"
   ],
   "id": "34f7e738-f585-4e5f-bf23-1e3f8f9e4752"
  }
 ],
 "nbformat": 4,
 "nbformat_minor": 5,
 "metadata": {}
}
