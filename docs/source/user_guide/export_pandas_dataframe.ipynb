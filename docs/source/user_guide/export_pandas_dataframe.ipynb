{
 "cells": [
  {
   "cell_type": "markdown",
   "metadata": {},
   "source": [
    "# Export to pandas DataFrame\n",
    "\n",
    "**NOTE: This feature is available only if using a version of pyOpenMS\n",
    "\\>= 3.0, at the time of writing this means using the nightly builds as\n",
    "described in the** [Installation\n",
    "Instructions](installation.ipynb#nightly-ci-wheels).\n",
    "\n",
    "In pyOpenMS some data structures can be converted to a tabular format as\n",
    "a `pandas.DataFrame`. This allows convenient access to data and meta\n",
    "values of spectra, features and identifications.\n",
    "\n",
    "Required imports for the examples:"
   ],
   "id": "6b3f88ba-f05e-49ac-9f06-95c76a0b42b8"
  },
  {
   "cell_type": "code",
   "execution_count": null,
   "metadata": {
    "linenos": ""
   },
   "outputs": [],
   "source": [
    "import pyopenms as oms\n",
    "import pandas as pd\n",
    "from urllib.request import urlretrieve\n",
    "\n",
    "url = \"https://raw.githubusercontent.com/OpenMS/pyopenms-docs/master/src/data/\""
   ],
   "id": "c4bcf789-ae03-420a-a886-8d83bf411b4c"
  },
  {
   "cell_type": "markdown",
   "metadata": {},
   "source": [
    "## MSExperiment\n",
    "\n",
    "**pyopenms.MSExperiment.get_df(** *long=False* **)**  \n",
    "Generates a pandas DataFrame with all peaks in the MSExperiment\n",
    "\n",
    "**Parameters:**\n",
    "\n",
    "**long :** default False\n",
    "\n",
    "set to True if you want to have a long/expanded/melted dataframe with\n",
    "one row per peak. Faster but replicated RT information. If False,\n",
    "returns rows in the style: rt, np.array(mz), np.array(int)\n",
    "\n",
    "**Returns:**\n",
    "\n",
    "**pandas.DataFrame**\n",
    "\n",
    "peak map information stored in a DataFrame\n",
    "\n",
    "**Examples:**"
   ],
   "id": "337d78a8-2b23-483e-be69-c42e25865071"
  },
  {
   "cell_type": "code",
   "execution_count": null,
   "metadata": {
    "linenos": ""
   },
   "outputs": [],
   "source": [
    "urlretrieve(url + \"BSA1.mzML\", \"BSA1.mzML\")\n",
    "exp = oms.MSExperiment()\n",
    "oms.MzMLFile().load(\"BSA1.mzML\", exp)\n",
    "\n",
    "df = exp.get_df()  # default: long = False\n",
    "df.head(2)"
   ],
   "id": "caf7ce18-793b-43ae-bbdb-1b2f428a8555"
  },
  {
   "cell_type": "markdown",
   "metadata": {},
   "source": [
    "|     | RT         | mzarray                                            | intarray                                           |\n",
    "|---|-------|-------------------------------|-------------------------------|\n",
    "| 0   | 1501.41394 | \\[300.0897645621494, 300.18132740129533, 300.20... | \\[3431.0261, 1181.809, 1516.1746, 1719.8547, 11... |\n",
    "| 1   | 1503.03125 | \\[300.06577092599525, 300.08932376441896, 300.2... | \\[914.79034, 1842.2311, 2395.1025, 851.4738, 16... |\n",
    "\n",
    "exp.get_df()"
   ],
   "id": "33063574-d7e5-4d94-9b65-3c6a1b28744c"
  },
  {
   "cell_type": "code",
   "execution_count": null,
   "metadata": {
    "linenos": ""
   },
   "outputs": [],
   "source": [
    "df = exp.get_df(long=True)\n",
    "df.head(2)"
   ],
   "id": "3b6e93fc-9dc5-4e46-b56c-444365098bc4"
  },
  {
   "cell_type": "markdown",
   "metadata": {},
   "source": [
    "|     | RT         | mz         | inty        |\n",
    "|-----|------------|------------|-------------|\n",
    "| 0   | 1501.41394 | 300.089752 | 3431.026123 |\n",
    "| 1   | 1501.41394 | 300.181335 | 1181.808960 |\n",
    "\n",
    "exp.get_df(long=True)\n",
    "\n",
    "## PeptideIdentification\n",
    "\n",
    "**pyopenms.peptide_identifications_to_df( peps**, *decode_ontology=True*, *default_missing_values={bool: False, int: -9999, float: np.nan, str: ''}*, *export_unidentified=True* **)**  \n",
    "Generates a pandas DataFrame with all peaks in the MSExperiment\n",
    "\n",
    "**Parameters:**\n",
    "\n",
    "**peps :**\n",
    "\n",
    "list of PeptideIdentification objects\n",
    "\n",
    "**decode_ontology :** default True\n",
    "\n",
    "if meta values contain CV identifer (e.g., from PSI-MS) they will be\n",
    "automatically decoded into the human readable CV term name.\n",
    "\n",
    "**default_missing_values :** default {bool: False, int: -9999, float:\n",
    "np.nan, str: ''}\n",
    "\n",
    "default value for missing values for each data type\n",
    "\n",
    "**export_unidentified :** default True\n",
    "\n",
    "export PeptideIdentifications without PeptideHit\n",
    "\n",
    "**Returns:**\n",
    "\n",
    "**pandas.DataFrame**\n",
    "\n",
    "peptide identifications in a DataFrame\n",
    "\n",
    "**Example:**"
   ],
   "id": "630749a4-74a8-4069-9bbc-558e9ab41ef5"
  },
  {
   "cell_type": "code",
   "execution_count": null,
   "metadata": {
    "linenos": ""
   },
   "outputs": [],
   "source": [
    "urlretrieve(url + \"small.idXML\", \"small.idXML\")\n",
    "prot_ids = []\n",
    "pep_ids = []\n",
    "oms.IdXMLFile().load(\"small.idXML\", prot_ids, pep_ids)\n",
    "\n",
    "df = oms.peptide_identifications_to_df(pep_ids)\n",
    "df.head(2)"
   ],
   "id": "a66c7817-d51d-488f-95b4-7a7ca2e3d3bd"
  },
  {
   "cell_type": "markdown",
   "metadata": {},
   "source": [
    "|     | id                                               | RT         | mz         | q-value  | charge | protein_accession             | start | end | NuXL:z2 mass | NuXL:z3 mass | ... | isotope_error | NuXL:peptide_mass_z0 | NuXL:XL_U | NuXL:sequence_score |\n",
    "|--|-----|---|-----|-----|---|-----|-----|-----|-----|-----|-----|-----|-----|-----|-----|\n",
    "| 0   | OpenNuXL_2019-12-04T16:39:43_1021782429466859437 | 900.425415 | 414.730865 | 0.368649 | 4      | DECOY_sp\\|Q86UQ0\\|ZN589_HUMAN | 255   | 267 | 828.458069   | 552.641113   | ... | 0             | 1654.901611          | 0         | 0.173912            |\n",
    "| 1   | OpenNuXL_2019-12-04T16:39:43_7293634134684008928 | 903.565186 | 506.259521 | 0.422779 | 2      | sp\\|P61313\\|RL15_HUMAN        | 179   | 187 | 0.0          | 0.0          | ... | 0             | 1010.504639          | 0         | 0.290786            |\n",
    "\n",
    "peptide_identifications_to_df(pep_ids)\n",
    "\n",
    "## FeatureMap\n",
    "\n",
    "**pyopenms.FeatureMap.get_df(** *meta_values = None* **)**  \n",
    "Generates a pandas DataFrame with information contained in the\n",
    "FeatureMap.\n",
    "\n",
    "Optionally the feature meta values and information for the assigned\n",
    "PeptideHit can be exported.\n",
    "\n",
    "**Parameters:**\n",
    "\n",
    "**meta_values :** default None\n",
    "\n",
    "meta values to include (None, \\[custom list of meta value names\\] or\n",
    "'all')\n",
    "\n",
    "**export_peptide_identifications (bool):** default True\n",
    "\n",
    "Export sequence and score for best PeptideHit assigned to a feature.\n",
    "Additionally the ID_filename (file name of the corresponding\n",
    "ProteinIdentification) and the ID_native_id (spectrum ID of the\n",
    "corresponding Feature) are exported. They are also annotated as meta\n",
    "values when collecting all assigned PeptideIdentifications from a\n",
    "FeatureMap with FeatureMap.get_assigned_peptide_identifications(). A\n",
    "DataFrame from the assigned peptides generated with\n",
    "peptide_identifications_to_df(assigned_peptides) can be merged with the\n",
    "FeatureMap DataFrame with: merged_df = pd.merge(feature_df,\n",
    "assigned_peptide_df, on=\\['feature_id', 'ID_native_id', 'ID_filename'\\])\n",
    "\n",
    "**Returns:**\n",
    "\n",
    "**pandas.DataFrame**\n",
    "\n",
    "feature information stored in a DataFrame\n",
    "\n",
    "**Examples:**"
   ],
   "id": "d8e44de5-e3e7-4841-8e57-5c1a17969c6f"
  },
  {
   "cell_type": "code",
   "execution_count": null,
   "metadata": {
    "linenos": ""
   },
   "outputs": [],
   "source": [
    "urlretrieve(url + \"BSA1_F1_idmapped.featureXML\", \"BSA1_F1_idmapped.featureXML\")\n",
    "feature_map = oms.FeatureMap()\n",
    "oms.FeatureXMLFile().load(\"BSA1_F1_idmapped.featureXML\", feature_map)\n",
    "\n",
    "df = feature_map.get_df()  # default: meta_values = None\n",
    "df.head(2)"
   ],
   "id": "0211d79f-c232-4a4f-bfc1-ae05e912a216"
  },
  {
   "cell_type": "markdown",
   "metadata": {},
   "source": [
    "| id                   | peptide_sequence | peptide_score | ID_filename | ID_native_id  | charge | RT          | mz         | RTstart     | RTend       | mzstart    | mzend      | quality  | intensity    |\n",
    "|------|------|------|------|------|---|------|------|------|------|------|------|------|------|\n",
    "| 9650885788371886430  | LVTDLTK          | 0.000000      | unknown     | spectrum=1270 | 2      | 1942.600083 | 395.239277 | 1932.484009 | 1950.834351 | 395.239199 | 397.245758 | 0.808494 | 157572000\\.0 |\n",
    "| 18416216708636999474 | DDSPDLPK         | 0.034483      | unknown     | spectrum=1167 | 2      | 1749.138335 | 443.711224 | 1735.693115 | 1763.343506 | 443.711122 | 445.717531 | 0.893553 | 54069300.0   |\n",
    "\n",
    "feature_map.get_df()"
   ],
   "id": "107b338c-1d9c-42c0-afd3-b0f2942d2abe"
  },
  {
   "cell_type": "code",
   "execution_count": null,
   "metadata": {
    "linenos": ""
   },
   "outputs": [],
   "source": [
    "df = feature_map.get_df(meta_values=\"all\", export_peptide_identifications=False)\n",
    "df.head(2)"
   ],
   "id": "d74ef2f7-feb1-42b7-9ea4-64a25ed2739b"
  },
  {
   "cell_type": "markdown",
   "metadata": {},
   "source": [
    "| id                   | charge | RT          | mz         | RTstart     | RTend       | mzstart    | mzend      | quality  | intensity    | FWHM      | spectrum_index | spectrum_native_id | label | score_correlation | score_fit |\n",
    "|-----|--|-----|-----|-----|-----|-----|-----|-----|-----|-----|-----|-----|-----|-----|-----|\n",
    "| 9650885788371886430  | 2      | 1942.600083 | 395.239277 | 1932.484009 | 1950.834351 | 395.239199 | 397.245758 | 0.808494 | 157572000\\.0 | 10.061090 | 259            | spectrum=1270      | 168   | 0.989969          | 0.660286  |\n",
    "| 18416216708636999474 | 2      | 1749.138335 | 443.711224 | 1735.693115 | 1763.343506 | 443.71112  | 445.717531 | 0.893553 | 54069300.0   | 14.156094 | 156            | spectrum=1167      | 169   | 0.999002          | 0.799234  |\n",
    "\n",
    "feature_map.get_df(meta_values = 'all', export_peptide_identifications =\n",
    "False)"
   ],
   "id": "f93eba81-53d6-4159-a13e-ff71c369a141"
  },
  {
   "cell_type": "code",
   "execution_count": null,
   "metadata": {
    "linenos": ""
   },
   "outputs": [],
   "source": [
    "df = feature_map.get_df(meta_values=[b\"FWHM\", b\"label\"])\n",
    "df.head(2)"
   ],
   "id": "c9450d91-a1ff-479e-9a5f-d554177e2cec"
  },
  {
   "cell_type": "markdown",
   "metadata": {},
   "source": [
    "| id                   | charge | RT          | mz         | RTstart     | RTend       | mzstart    | mzend      | quality  | intensity    | FWHM      | label |\n",
    "|-------|---|-------|-------|-------|-------|-------|-------|-------|-------|-------|-------|\n",
    "| 9650885788371886430  | 2      | 1942.600083 | 395.239277 | 1932.484009 | 1950.834351 | 395.239199 | 397.245758 | 0.808494 | 157572000\\.0 | 10.061090 | 168   |\n",
    "| 18416216708636999474 | 2      | 1749.138335 | 443.711224 | 1735.693115 | 1763.343506 | 443.71112  | 445.717531 | 0.893553 | 54069300.0   | 14.156094 | 169   |\n",
    "\n",
    "feature_map.get_df(meta_values = \\[b'FWHM', b'label'\\])\n",
    "\n",
    "**Extract assigned peptide identifications from a feature map**\n",
    "\n",
    "Peptide identifications can be mapped to their corresponding features in\n",
    "a `FeatureMap`. It is possible to extract them using the function\n",
    "`pyopenms.FeatureMap.get_assigned_peptide_identifications()` returning a\n",
    "list of `PeptideIdentification` objects.\n",
    "\n",
    "**pyopenms.FeatureMap.get_assigned_peptide_identifications()**  \n",
    "Generates a list with peptide identifications assigned to a feature.\n",
    "\n",
    "Adds 'ID_native_id' (feature spectrum id), 'ID_filename' (primary MS run\n",
    "path of corresponding ProteinIdentification) and 'feature_id' (unique ID\n",
    "of corresponding Feature) as meta values to the peptide hits. A\n",
    "DataFrame from the assigned peptides generated with\n",
    "peptide_identifications_to_df(assigned_peptides) can be merged with the\n",
    "FeatureMap DataFrame with: merged_df = pd.merge(feature_df,\n",
    "assigned_peptide_df, on=\\['feature_id', 'ID_native_id', 'ID_filename'\\])\n",
    "\n",
    "**Returns:**\n",
    "\n",
    "**\\[PeptideIdentification\\]**\n",
    "\n",
    "list of PeptideIdentification objects\n",
    "\n",
    "A `DataFrame` can be created on the resulting list of\n",
    "<span class=\"title-ref\">PeptideIdentification</span> objects using\n",
    "`pyopenms.peptide_identifications_to_df(assigned_peptides)`.\n",
    "[Feature map](https://pyopenms.readthedocs.io/en/latest/user_guide/glossary.html#term-feature-map)\n",
    "and peptide data frames contain columns, on which they can be merged\n",
    "together to contain the complete information for peptides and features\n",
    "in a single data frame.\n",
    "\n",
    "The columns for unambiguously merging the data frames:\n",
    "\n",
    "-   `feature_id`: the unique feature identifier\n",
    "-   `ID_native_id`: the feature spectrum native identifier\n",
    "-   `ID_filename`: the filename (primary MS run path) of the\n",
    "    corresponding <span class=\"title-ref\">ProteinIdentification</span>\n",
    "\n",
    "**Example:**"
   ],
   "id": "d02cd084-a6b0-4efe-9aa0-9ed7eaed7332"
  },
  {
   "cell_type": "code",
   "execution_count": null,
   "metadata": {
    "linenos": ""
   },
   "outputs": [],
   "source": [
    "feature_df = feature_map.get_df()\n",
    "assigned_peptides = feature_map.get_assigned_peptide_identifications()\n",
    "assigned_peptide_df = oms.peptide_identifications_to_df(assigned_peptides)\n",
    "\n",
    "merged_df = pd.merge(\n",
    "    feature_df,\n",
    "    assigned_peptide_df,\n",
    "    on=[\"feature_id\", \"ID_native_id\", \"ID_filename\"],\n",
    ")\n",
    "merged_df.head(2)"
   ],
   "id": "52f16154-6245-48cf-8440-0ce7ca147d39"
  },
  {
   "cell_type": "markdown",
   "metadata": {},
   "source": [
    "| feature_id           | peptide_sequence | peptide_score | ID_filename | ID_native_id  | charge_x | RT_x        | mz_x       | RTstart     | RTend       | ... | id                                            | RT_y        | mz_y       | q-value  | charge_y | protein_accession  | start | end | OMSSA_score | target_decoy |\n",
    "|----|----|----|----|----|----|----|----|----|----|----|----|----|----|----|----|----|----|----|----|----|\n",
    "| 9650885788371886430  | LVTDLTK          | 0.000000      | unknown     | spectrum=1270 | 2        | 1942.600083 | 395.239277 | 1932.484009 | 1950.834351 | ... | OMSSA_2009-11-17T11:11:11_4731105163044641872 | 1933.405151 | 395.239349 | 0.000000 | 2        | P02769\\|ALBU_BOVIN | -1    | -1  | 0.001084    | True         |\n",
    "| 18416216708636999474 | DDSPDLPK         | 0.034483      | unknown     | spectrum=1167 | 2        | 1749.138335 | 443.711224 | 1735.693115 | 1763.343506 | ... | OMSSA_2009-11-17T11:11:11_4731105163044641872 | 1738.033447 | 443.711243 | 0.034483 | 2        | P02769\\|ALBU_BOVIN | -1    | -1  | 0.003951    | True         |\n",
    "\n",
    "consensus_map.get_df()\n",
    "\n",
    "## ConsensusMap\n",
    "\n",
    "**pyopenms.ConsensusMap.get_df()**  \n",
    "Generates a pandas DataFrame with both consensus feature meta data and\n",
    "intensities from each sample.\n",
    "\n",
    "**Returns:**\n",
    "\n",
    "**pandas.DataFrame**\n",
    "\n",
    "[consensus map](https://pyopenms.readthedocs.io/en/latest/user_guide/glossary.html#term-consensus-map)\n",
    "meta data and intensity stored in pandas DataFrame\n",
    "\n",
    "**pyopenms.ConsensusMap.get_intensity_df()**  \n",
    "Generates a pandas DataFrame with feature intensities from each sample\n",
    "in long format (over files).\n",
    "\n",
    "For labelled analyses channel intensities will be in one row, therefore\n",
    "resulting in a semi-long/block format. Resulting DataFrame can be joined\n",
    "with result from get_metadata_df by their index 'id'.\n",
    "\n",
    "**Returns:**\n",
    "\n",
    "**pandas.DataFrame**\n",
    "\n",
    "intensity DataFrame\n",
    "\n",
    "**pyopenms.ConsensusMap.get_metadata_df()**  \n",
    "Generates a pandas DataFrame with feature meta data (sequence, charge,\n",
    "mz, RT, quality).\n",
    "\n",
    "Resulting DataFrame can be joined with result from get_intensity_df by\n",
    "their index 'id'.\n",
    "\n",
    "**Returns:**\n",
    "\n",
    "**pandas.DataFrame**\n",
    "\n",
    "DataFrame with metadata for each feature (such as: best identified\n",
    "sequence, charge, centroid RT/mz, fitting quality)\n",
    "\n",
    "**Examples:**"
   ],
   "id": "817a805d-2ea6-4663-8014-3061071cb443"
  },
  {
   "cell_type": "code",
   "execution_count": null,
   "metadata": {
    "linenos": ""
   },
   "outputs": [],
   "source": [
    "urlretrieve(\n",
    "    url + \"ProteomicsLFQ_1_out.consensusXML\", \"ProteomicsLFQ_1_out.consensusXML\"\n",
    ")\n",
    "consensus_map = oms.ConsensusMap()\n",
    "oms.ConsensusXMLFile().load(\"ProteomicsLFQ_1_out.consensusXML\", consensus_map)\n",
    "\n",
    "df = consensus_map.get_df()\n",
    "df.head(2)"
   ],
   "id": "e8781c69-7e62-45ae-8632-3eafc0845749"
  },
  {
   "cell_type": "markdown",
   "metadata": {},
   "source": [
    "| id                   | sequence                   | charge | RT          | mz         | quality  | BSA1_F1.mzML | ... | BSA1_F2.mzML |\n",
    "|--|-----|---------|---------|---------|---------|-------------|-----|-------------|\n",
    "| 2935923263525422257  | DGDIEAEISR                 | 3      | 1523.370634 | 368.843773 | 0.000000 | 0.0          | ... | 0.0          |\n",
    "| 10409195546240342212 | SHC(Carbamidomethyl)IAEVEK | 3      | 1552.032973 | 358.174576 | 0.491247 | 1358151.0    | ... | 0.0          |\n",
    "\n",
    "consensus_map.get_df()"
   ],
   "id": "e5f4ba08-a0cc-4a71-a1b7-dfcaec4d086d"
  },
  {
   "cell_type": "code",
   "execution_count": null,
   "metadata": {
    "linenos": ""
   },
   "outputs": [],
   "source": [
    "df = consensus_map.get_intensity_df()\n",
    "df.head(2)"
   ],
   "id": "c2b429b7-f488-4a77-9529-4125f648653b"
  },
  {
   "cell_type": "markdown",
   "metadata": {},
   "source": [
    "| id                   | BSA1_F1.mzML | ... | BSA1_F2.mzML |\n",
    "|----------------------|--------------|-----|--------------|\n",
    "| 2935923263525422257  | 0.0          | ... | 0.0          |\n",
    "| 10409195546240342212 | 1358151.0    | ... | 0.0          |\n",
    "\n",
    "consensus_map.get_intensity_df()"
   ],
   "id": "fdd2cf0d-cdbe-44fa-894d-3f4a08bffbba"
  },
  {
   "cell_type": "code",
   "execution_count": null,
   "metadata": {
    "linenos": ""
   },
   "outputs": [],
   "source": [
    "df = consensus_map.get_metadata_df()\n",
    "df.head(2)"
   ],
   "id": "321d3374-4954-4d09-8caf-98565b7f406c"
  },
  {
   "cell_type": "markdown",
   "metadata": {},
   "source": [
    "| id                   | sequence                   | charge | RT          | mz         | quality  |\n",
    "|------------|------------|------------|------------|------------|------------|\n",
    "| 2935923263525422257  | DGDIEAEISR                 | 3      | 1523.370634 | 368.843773 | 0.000000 |\n",
    "| 10409195546240342212 | SHC(Carbamidomethyl)IAEVEK | 3      | 1552.032973 | 358.174576 | 0.491247 |\n",
    "\n",
    "consensus_map.get_metadata_df()"
   ],
   "id": "95e1c223-91c0-4464-926f-6c3eabbbb4bc"
  }
 ],
 "nbformat": 4,
 "nbformat_minor": 5,
 "metadata": {}
}
