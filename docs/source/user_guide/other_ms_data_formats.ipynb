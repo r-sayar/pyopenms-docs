{
 "cells": [
  {
   "cell_type": "markdown",
   "metadata": {},
   "source": [
    "# Other MS Data Formats\n",
    "\n",
    "## Identification Data (idXML, mzIdentML, pepXML, protXML)\n",
    "\n",
    "You can store and load identification data from an\n",
    "<span class=\"title-ref\">idXML</span> file as follows:"
   ],
   "id": "5453aca7-d095-4fee-a7a6-659f400e7628"
  },
  {
   "cell_type": "code",
   "execution_count": null,
   "metadata": {
    "linenos": ""
   },
   "outputs": [],
   "source": [
    "from urllib.request import urlretrieve\n",
    "import pyopenms as oms\n",
    "\n",
    "gh = gh = \"https://raw.githubusercontent.com/OpenMS/pyopenms-docs/master\"\n",
    "urlretrieve(gh + \"/src/data/IdXMLFile_whole.idXML\", \"test.idXML\")\n",
    "protein_ids = []\n",
    "peptide_ids = []\n",
    "oms.IdXMLFile().load(\"test.idXML\", protein_ids, peptide_ids)\n",
    "oms.IdXMLFile().store(\"test.out.idXML\", protein_ids, peptide_ids)"
   ],
   "id": "54b2533c-343d-424d-ae4a-caa60f2dc603"
  },
  {
   "cell_type": "markdown",
   "metadata": {},
   "source": [
    "You can store and load identification data from an\n",
    "<span class=\"title-ref\">mzIdentML</span> file as follows:"
   ],
   "id": "8957c912-28a0-47dc-a5c3-f2805ed57f7e"
  },
  {
   "cell_type": "code",
   "execution_count": null,
   "metadata": {
    "linenos": ""
   },
   "outputs": [],
   "source": [
    "from urllib.request import urlretrieve\n",
    "\n",
    "gh = gh = \"https://raw.githubusercontent.com/OpenMS/pyopenms-docs/master\"\n",
    "urlretrieve(gh + \"/src/data/MzIdentML_3runs.mzid\", \"test.mzid\")\n",
    "protein_ids = []\n",
    "peptide_ids = []\n",
    "oms.MzIdentMLFile().load(\"test.mzid\", protein_ids, peptide_ids)\n",
    "oms.MzIdentMLFile().store(\"test.out.mzid\", protein_ids, peptide_ids)"
   ],
   "id": "5be1696a-f956-4d3e-ab47-19850e3c53db"
  },
  {
   "cell_type": "markdown",
   "metadata": {},
   "source": [
    "You can store and load identification data from a TPP\n",
    "<span class=\"title-ref\">pepXML</span> file as follows:"
   ],
   "id": "b8e3c53a-0716-467c-af2b-6254e20440d2"
  },
  {
   "cell_type": "code",
   "execution_count": null,
   "metadata": {
    "linenos": ""
   },
   "outputs": [],
   "source": [
    "from urllib.request import urlretrieve\n",
    "\n",
    "gh = gh = \"https://raw.githubusercontent.com/OpenMS/pyopenms-docs/master\"\n",
    "urlretrieve(gh + \"/src/data/PepXMLFile_test.pepxml\", \"test.pepxml\")\n",
    "protein_ids = []\n",
    "peptide_ids = []\n",
    "oms.PepXMLFile().load(\"test.pepxml\", protein_ids, peptide_ids)\n",
    "oms.PepXMLFile().store(\"test.out.pepxml\", protein_ids, peptide_ids)"
   ],
   "id": "c7098a08-725f-4cc6-95dd-acc13129d6b0"
  },
  {
   "cell_type": "markdown",
   "metadata": {},
   "source": [
    "You can load (storing is not supported) identification data from a TPP\n",
    "<span class=\"title-ref\">protXML</span> file as follows:"
   ],
   "id": "2e5b7ce9-ca51-4454-bb62-407c71350c60"
  },
  {
   "cell_type": "code",
   "execution_count": null,
   "metadata": {
    "linenos": ""
   },
   "outputs": [],
   "source": [
    "from urllib.request import urlretrieve\n",
    "\n",
    "gh = gh = \"https://raw.githubusercontent.com/OpenMS/pyopenms-docs/master\"\n",
    "urlretrieve(gh + \"/src/data/ProtXMLFile_input_1.protXML\", \"test.protXML\")\n",
    "protein_ids = oms.ProteinIdentification()\n",
    "peptide_ids = oms.PeptideIdentification()\n",
    "oms.ProtXMLFile().load(\"test.protXML\", protein_ids, peptide_ids)\n",
    "# storing protein XML file is not yet supported"
   ],
   "id": "124f30df-7cc6-48c7-ac06-82c3ae066fed"
  },
  {
   "cell_type": "markdown",
   "metadata": {},
   "source": [
    "Note how each data file produces two vectors of type\n",
    "[ProteinIdentification](https://pyopenms.readthedocs.io/en/latest/apidocs/_autosummary/pyopenms/pyopenms.ProteinIdentification.html)\n",
    "and\n",
    "[PeptideIdentification](https://pyopenms.readthedocs.io/en/latest/apidocs/_autosummary/pyopenms/pyopenms.PeptideIdentification.html)\n",
    "which also means that conversion between two data types is trivial: load\n",
    "data from one data file and use the storage function of the other file.\n",
    "\n",
    "## Quantiative Data (featureXML, consensusXML)\n",
    "\n",
    "OpenMS stores quantitative information in the internal `featureXML` and\n",
    "`consensusXML` attributes. The `featureXML` format is used to store\n",
    "quantitative data from a single\n",
    "[LC-MS/MS](https://pyopenms.readthedocs.io/en/latest/user_guide/glossary.html#term-LC-MS/MS)\n",
    "run while the `consensusXML` is used to store quantitative data from\n",
    "multiple\n",
    "[LC-MS/MS](https://pyopenms.readthedocs.io/en/latest/user_guide/glossary.html#term-LC-MS/MS)\n",
    "runs. These can be accessed as follows:"
   ],
   "id": "7648bc43-43d2-4fd4-a7e6-4f79ef51838c"
  },
  {
   "cell_type": "code",
   "execution_count": null,
   "metadata": {
    "linenos": ""
   },
   "outputs": [],
   "source": [
    "from urllib.request import urlretrieve\n",
    "\n",
    "gh = gh = \"https://raw.githubusercontent.com/OpenMS/pyopenms-docs/master\"\n",
    "urlretrieve(\n",
    "    gh + \"/src/data/FeatureFinderCentroided_1_output.featureXML\",\n",
    "    \"test.featureXML\",\n",
    ")\n",
    "features = oms.FeatureMap()\n",
    "oms.FeatureXMLFile().load(\"test.featureXML\", features)\n",
    "oms.FeatureXMLFile().store(\"test.out.featureXML\", features)"
   ],
   "id": "c56998a4-5d79-4b8e-a595-2160539cda9f"
  },
  {
   "cell_type": "markdown",
   "metadata": {},
   "source": [
    "and for `consensusXML`"
   ],
   "id": "3025696b-f84d-4554-a482-24ce559f70a0"
  },
  {
   "cell_type": "code",
   "execution_count": null,
   "metadata": {
    "linenos": ""
   },
   "outputs": [],
   "source": [
    "from urllib.request import urlretrieve\n",
    "\n",
    "gh = gh = \"https://raw.githubusercontent.com/OpenMS/pyopenms-docs/master\"\n",
    "urlretrieve(\n",
    "    gh + \"/src/data/ConsensusXMLFile_1.consensusXML\", \"test.consensusXML\"\n",
    ")\n",
    "consensus_features = oms.ConsensusMap()\n",
    "oms.ConsensusXMLFile().load(\"test.consensusXML\", consensus_features)\n",
    "oms.ConsensusXMLFile().store(\"test.out.consensusXML\", consensus_features)"
   ],
   "id": "73148096-28b2-4fa0-b328-def7528313a8"
  },
  {
   "cell_type": "markdown",
   "metadata": {},
   "source": [
    "## Transition data (TraML)\n",
    "\n",
    "The TraML data format allows you to store transition information for\n",
    "targeted experiments\n",
    "([SRM](https://pyopenms.readthedocs.io/en/latest/user_guide/glossary.html#term-SRM)\n",
    "/ MRM / PRM / DIA)."
   ],
   "id": "19b019a1-fea8-4f2c-b6bc-98a0cb3eeeea"
  },
  {
   "cell_type": "code",
   "execution_count": null,
   "metadata": {
    "linenos": ""
   },
   "outputs": [],
   "source": [
    "from urllib.request import urlretrieve\n",
    "\n",
    "gh = \"https://raw.githubusercontent.com/OpenMS/pyopenms-extra/master\"\n",
    "urlretrieve(gh + \"/src/data/ConvertTSVToTraML_output.TraML\", \"test.TraML\")\n",
    "targeted_exp = oms.TargetedExperiment()\n",
    "oms.TraMLFile().load(\"test.TraML\", targeted_exp)\n",
    "oms.TraMLFile().store(\"test.out.TraML\", targeted_exp)"
   ],
   "id": "c5decc2c-e3e6-43e8-af0b-d7a19580130d"
  }
 ],
 "nbformat": 4,
 "nbformat_minor": 5,
 "metadata": {}
}
